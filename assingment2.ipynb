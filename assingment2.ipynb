{
  "nbformat": 4,
  "nbformat_minor": 0,
  "metadata": {
    "colab": {
      "provenance": []
    },
    "kernelspec": {
      "name": "python3",
      "display_name": "Python 3"
    },
    "language_info": {
      "name": "python"
    }
  },
  "cells": [
    {
      "cell_type": "markdown",
      "source": [
        "1.Discuss string slicing and provide examples"
      ],
      "metadata": {
        "id": "RxKUDm7oxJKx"
      }
    },
    {
      "cell_type": "markdown",
      "source": [
        "String slicing is a way to pick out parts of a string in Python. Think of a string as a sequence of characters, each having its own position or index, starting from 0. String slicing helps you get a portion of this string using its positions.\n",
        "\n",
        "Examples:\n",
        "Getting the first few characters:"
      ],
      "metadata": {
        "id": "apDKQZYLyFpJ"
      }
    },
    {
      "cell_type": "code",
      "source": [
        "text = \"Hello, World!\"\n",
        "print(text[0:5])"
      ],
      "metadata": {
        "id": "b7sWgdn8x-pp",
        "colab": {
          "base_uri": "https://localhost:8080/"
        },
        "outputId": "27cc712e-5703-4022-834f-2e79c85b4ba4"
      },
      "execution_count": 31,
      "outputs": [
        {
          "output_type": "stream",
          "name": "stdout",
          "text": [
            "Hello\n"
          ]
        }
      ]
    },
    {
      "cell_type": "markdown",
      "source": [
        "1.This takes characters from position 0 to 4 (the 5th one is not included).\n",
        "Skipping the start or end: If you don't provide the start, it assumes the start is 0. If you skip the end, it goes to the end of the string."
      ],
      "metadata": {
        "id": "MvWcu8932mAv"
      }
    },
    {
      "cell_type": "code",
      "source": [
        "text = \"Python Programming\"\n",
        "print(text[:6])\n",
        "print(text[7:])"
      ],
      "metadata": {
        "colab": {
          "base_uri": "https://localhost:8080/"
        },
        "id": "aIN6la6_2fpv",
        "outputId": "8ee9775b-56c3-4409-daf5-c2dd94c5b9f7"
      },
      "execution_count": 30,
      "outputs": [
        {
          "output_type": "stream",
          "name": "stdout",
          "text": [
            "Python\n",
            "Programming\n"
          ]
        }
      ]
    },
    {
      "cell_type": "markdown",
      "source": [
        "2.Using Negative Indexes: You can count from the end of the string using negative numbers."
      ],
      "metadata": {
        "id": "W-Bhyn4c2ylp"
      }
    },
    {
      "cell_type": "code",
      "source": [
        "text = \"Hello, World!\"\n",
        "print(text[-6:-1])"
      ],
      "metadata": {
        "colab": {
          "base_uri": "https://localhost:8080/"
        },
        "id": "huo14_YX2v9e",
        "outputId": "37adcfab-e0e3-48ec-e45b-14ea825d7f36"
      },
      "execution_count": 29,
      "outputs": [
        {
          "output_type": "stream",
          "name": "stdout",
          "text": [
            "World\n"
          ]
        }
      ]
    },
    {
      "cell_type": "markdown",
      "source": [
        "3.Skipping Characters with a Step: You can use a third number to specify how many characters to skip. For example, if you want every second character:\n",
        "\n"
      ],
      "metadata": {
        "id": "1JmWl_k72zi4"
      }
    },
    {
      "cell_type": "code",
      "source": [
        "text = \"Python\"\n",
        "print(text[0:6:2])"
      ],
      "metadata": {
        "colab": {
          "base_uri": "https://localhost:8080/"
        },
        "id": "orGqouF020Lx",
        "outputId": "581de578-3342-482c-ea79-e0986e6074fe"
      },
      "execution_count": 28,
      "outputs": [
        {
          "output_type": "stream",
          "name": "stdout",
          "text": [
            "Pto\n"
          ]
        }
      ]
    },
    {
      "cell_type": "markdown",
      "source": [
        "\n",
        "4.Reversing a String: You can also reverse a string using slicing:"
      ],
      "metadata": {
        "id": "megmAbAe3dvJ"
      }
    },
    {
      "cell_type": "code",
      "source": [
        "text = \"Python\"\n",
        "print(text[::-1])"
      ],
      "metadata": {
        "colab": {
          "base_uri": "https://localhost:8080/"
        },
        "id": "-C_ntteG3T7O",
        "outputId": "0466367e-3aba-4ae1-c3c1-b667076c86c0"
      },
      "execution_count": 27,
      "outputs": [
        {
          "output_type": "stream",
          "name": "stdout",
          "text": [
            "nohtyP\n"
          ]
        }
      ]
    },
    {
      "cell_type": "markdown",
      "source": [
        "this is how string slicing is used in python."
      ],
      "metadata": {
        "id": "GC8HYNOQ3rSj"
      }
    },
    {
      "cell_type": "markdown",
      "source": [
        "2.Explain the key features of list in python."
      ],
      "metadata": {
        "id": "i3FqW3ml3013"
      }
    },
    {
      "cell_type": "markdown",
      "source": [
        " Lists in Python are one of the most commonly used data structures. They allow you to store a collection of items (elements) in a single variable. Here are the key features of lists:\n",
        " 1. Ordered\n",
        "Lists maintain the order of items. When you add elements to a list, they are stored in the order you insert them, and you can access them using their index (position in the list)."
      ],
      "metadata": {
        "id": "dBgbZtIP4Psc"
      }
    },
    {
      "cell_type": "code",
      "source": [
        "my_list = [10, 20, 30]\n",
        "print(my_list[1])"
      ],
      "metadata": {
        "colab": {
          "base_uri": "https://localhost:8080/"
        },
        "id": "BtzvV1j33pZG",
        "outputId": "ef9ec22f-9854-4564-c235-56ad1fe22b6f"
      },
      "execution_count": 26,
      "outputs": [
        {
          "output_type": "stream",
          "name": "stdout",
          "text": [
            "20\n"
          ]
        }
      ]
    },
    {
      "cell_type": "markdown",
      "source": [
        "2. Mutable\n",
        "Lists are changeable, meaning you can modify, add, or remove elements after the list has been created.\n",
        "\n",
        "---\n",
        "\n"
      ],
      "metadata": {
        "id": "Whz6WCgc5T6g"
      }
    },
    {
      "cell_type": "code",
      "source": [
        "my_list = [10, 20, 30]\n",
        "my_list[1] =40\n",
        "print(my_list)"
      ],
      "metadata": {
        "colab": {
          "base_uri": "https://localhost:8080/"
        },
        "id": "b-mQDmeH5Sgr",
        "outputId": "94618b6a-48dd-408e-af3a-ca78e169c3aa"
      },
      "execution_count": 25,
      "outputs": [
        {
          "output_type": "stream",
          "name": "stdout",
          "text": [
            "[10, 40, 30]\n"
          ]
        }
      ]
    },
    {
      "cell_type": "markdown",
      "source": [
        "3. Heterogeneous\n",
        "Lists can store different data types in a single list. You can mix integers, strings, floats, or even other lists."
      ],
      "metadata": {
        "id": "zXdC9co95gKx"
      }
    },
    {
      "cell_type": "code",
      "source": [
        "my_list = [10, \"Hello\", 3.14, [1, 2, 3]]\n",
        "print(my_list)"
      ],
      "metadata": {
        "colab": {
          "base_uri": "https://localhost:8080/"
        },
        "id": "SP980_NF5ew1",
        "outputId": "921405cc-a47e-499b-face-b116dfe4191e"
      },
      "execution_count": 23,
      "outputs": [
        {
          "output_type": "stream",
          "name": "stdout",
          "text": [
            "[10, 'Hello', 3.14, [1, 2, 3]]\n"
          ]
        }
      ]
    },
    {
      "cell_type": "markdown",
      "source": [
        "4. Indexed\n",
        "Each item in a list has an index (position) starting from 0. You can access or modify elements using their index."
      ],
      "metadata": {
        "id": "-MTTbTgh5hPl"
      }
    },
    {
      "cell_type": "code",
      "source": [
        "my_list = [\"apple\", \"banana\", \"cherry\"]\n",
        "print(my_list[0])"
      ],
      "metadata": {
        "colab": {
          "base_uri": "https://localhost:8080/"
        },
        "id": "rcaCedB95hvL",
        "outputId": "8f206d3f-9b37-4832-b6c7-4dd652f96de1"
      },
      "execution_count": 22,
      "outputs": [
        {
          "output_type": "stream",
          "name": "stdout",
          "text": [
            "apple\n"
          ]
        }
      ]
    },
    {
      "cell_type": "markdown",
      "source": [
        "5. Dynamic Size\n",
        "Lists in Python can grow or shrink as needed. You can add new elements or remove elements dynamically without worrying about the size."
      ],
      "metadata": {
        "id": "dHsF0ikQ5iQf"
      }
    },
    {
      "cell_type": "code",
      "source": [
        "my_list = [1, 2, 3]\n",
        "my_list.append(4)\n",
        "print(my_list)"
      ],
      "metadata": {
        "colab": {
          "base_uri": "https://localhost:8080/"
        },
        "id": "IyzXECce5jPN",
        "outputId": "79bec447-d8ff-4f0f-918e-c6cdafee0556"
      },
      "execution_count": 21,
      "outputs": [
        {
          "output_type": "stream",
          "name": "stdout",
          "text": [
            "[1, 2, 3, 4]\n"
          ]
        }
      ]
    },
    {
      "cell_type": "markdown",
      "source": [
        "6. Supports Various Operations\n",
        "Add: You can use methods like append(), insert(), and extend() to add elements.\n",
        "Remove: You can remove elements using remove(), pop(), or del.\n",
        "Slice: Lists support slicing to extract parts of the list.\n",
        "Looping: You can iterate over lists with loops."
      ],
      "metadata": {
        "id": "6B-BIjn56XJy"
      }
    },
    {
      "cell_type": "code",
      "source": [
        "my_list = [1, 2, 3]\n",
        "my_list.append(4)\n",
        "print(my_list)\n",
        "\n",
        "my_list.remove(2)\n",
        "print(my_list)\n",
        "\n",
        "sliced_list = my_list[1:3]\n",
        "print(sliced_list)"
      ],
      "metadata": {
        "colab": {
          "base_uri": "https://localhost:8080/"
        },
        "id": "_QBJno1v6Aog",
        "outputId": "64f52f03-b2bb-45aa-a111-c3cd862a02f8"
      },
      "execution_count": 20,
      "outputs": [
        {
          "output_type": "stream",
          "name": "stdout",
          "text": [
            "[1, 2, 3, 4]\n",
            "[1, 3, 4]\n",
            "[3, 4]\n"
          ]
        }
      ]
    },
    {
      "cell_type": "markdown",
      "source": [
        "7. Built-in Functions\n",
        "Lists support many built-in functions, such as:\n",
        "len(): Get the number of elements in the list.\n",
        "sorted(): Sort the list.\n",
        "min() and max(): Get the minimum and maximum values from the list."
      ],
      "metadata": {
        "id": "Al-cVyvi6hGt"
      }
    },
    {
      "cell_type": "code",
      "source": [
        "my_list = [5, 2, 9, 1]\n",
        "print(len(my_list))\n",
        "print(sorted(my_list))"
      ],
      "metadata": {
        "colab": {
          "base_uri": "https://localhost:8080/"
        },
        "id": "iAZcSsza6dIq",
        "outputId": "b19fadd5-27df-4a14-891b-baaf1cc342c8"
      },
      "execution_count": 18,
      "outputs": [
        {
          "output_type": "stream",
          "name": "stdout",
          "text": [
            "4\n",
            "[1, 2, 5, 9]\n"
          ]
        }
      ]
    },
    {
      "cell_type": "markdown",
      "source": [
        "8. Nested Lists\n",
        "Lists can contain other lists, allowing you to create complex data structures like matrices or lists of lists."
      ],
      "metadata": {
        "id": "le_ZquFa6hpr"
      }
    },
    {
      "cell_type": "code",
      "source": [
        "matrix = [[1, 2], [3, 4], [5, 6]]\n",
        "print(matrix[1])"
      ],
      "metadata": {
        "colab": {
          "base_uri": "https://localhost:8080/"
        },
        "id": "udzxSC9K6q-x",
        "outputId": "512919c1-a3a7-4219-ced1-70b286229da3"
      },
      "execution_count": 19,
      "outputs": [
        {
          "output_type": "stream",
          "name": "stdout",
          "text": [
            "[3, 4]\n"
          ]
        }
      ]
    },
    {
      "cell_type": "markdown",
      "source": [
        "3.Describe how to access,modify,and delete elements in a list with examples."
      ],
      "metadata": {
        "id": "ui7b0LbG8pXT"
      }
    },
    {
      "cell_type": "markdown",
      "source": [
        "In Python, lists allow you to easily access, modify, and delete elements. Let’s go over how to do each of these with examples.\n",
        "\n",
        "1. Accessing Elements in a List\n",
        "You can access individual elements in a list using their index. Indexing starts at 0 for the first element, and you can also use negative indexing to start from the end.\n",
        "\n",
        "Example:"
      ],
      "metadata": {
        "id": "rio4QIbq880I"
      }
    },
    {
      "cell_type": "code",
      "source": [
        "my_list = [\"apple\", \"banana\", \"cherry\", \"date\"]\n",
        "\n",
        "# Accessing using positive index\n",
        "print(my_list[0])  # Output: 'apple'\n",
        "\n",
        "# Accessing using negative index\n",
        "print(my_list[-1])"
      ],
      "metadata": {
        "colab": {
          "base_uri": "https://localhost:8080/"
        },
        "id": "AMiBv6f86tqs",
        "outputId": "c50a8d3b-2139-4fe9-bc8a-29e5f2273799"
      },
      "execution_count": 32,
      "outputs": [
        {
          "output_type": "stream",
          "name": "stdout",
          "text": [
            "apple\n",
            "date\n"
          ]
        }
      ]
    },
    {
      "cell_type": "markdown",
      "source": [
        " 2. Modifying Elements in a List\n",
        "Lists in Python are mutable, meaning you can change the value of elements by referring to their index.\n",
        "\n",
        "Example:\n"
      ],
      "metadata": {
        "id": "2KXcKAB19F8Y"
      }
    },
    {
      "cell_type": "code",
      "source": [
        "my_list = [\"apple\", \"banana\", \"cherry\"]\n",
        "\n",
        "# Modify the second element (index 1)\n",
        "my_list[1] = \"blueberry\"\n",
        "\n",
        "print(my_list)"
      ],
      "metadata": {
        "colab": {
          "base_uri": "https://localhost:8080/"
        },
        "id": "bgWuP8qd9EmR",
        "outputId": "6a6a3989-05cb-4860-b510-2bf28f755122"
      },
      "execution_count": 33,
      "outputs": [
        {
          "output_type": "stream",
          "name": "stdout",
          "text": [
            "['apple', 'blueberry', 'cherry']\n"
          ]
        }
      ]
    },
    {
      "cell_type": "markdown",
      "source": [
        "You can also modify multiple elements using slicing:"
      ],
      "metadata": {
        "id": "3zvdRgrN9Tnt"
      }
    },
    {
      "cell_type": "code",
      "source": [
        "my_list = [1, 2, 3, 4, 5]\n",
        "\n",
        "# Modify a slice of the list (replace the first two elements)\n",
        "my_list[0:2] = [10, 20]\n",
        "\n",
        "print(my_list)"
      ],
      "metadata": {
        "colab": {
          "base_uri": "https://localhost:8080/"
        },
        "id": "QcyIlYiS9SNK",
        "outputId": "a444d3d6-fa11-4479-b983-1a4f5061af72"
      },
      "execution_count": 34,
      "outputs": [
        {
          "output_type": "stream",
          "name": "stdout",
          "text": [
            "[10, 20, 3, 4, 5]\n"
          ]
        }
      ]
    },
    {
      "cell_type": "markdown",
      "source": [
        "3. Deleting Elements from a List\n",
        "You can delete elements using several methods in Python:\n",
        "\n",
        "a. Using del\n",
        "The del keyword is used to delete elements at a specific index or a slice of the list.\n",
        "\n",
        "Example:\n",
        "\n"
      ],
      "metadata": {
        "id": "uuvn7BrR9b28"
      }
    },
    {
      "cell_type": "code",
      "source": [
        "my_list = [\"apple\", \"banana\", \"cherry\"]\n",
        "\n",
        "del my_list[1]\n",
        "\n",
        "print(my_list)"
      ],
      "metadata": {
        "colab": {
          "base_uri": "https://localhost:8080/"
        },
        "id": "DYYVioh79Z9m",
        "outputId": "b0081e62-8fa7-488f-91a5-ebca60942d0c"
      },
      "execution_count": 35,
      "outputs": [
        {
          "output_type": "stream",
          "name": "stdout",
          "text": [
            "['apple', 'cherry']\n"
          ]
        }
      ]
    },
    {
      "cell_type": "markdown",
      "source": [
        "You can also delete a range of elements:"
      ],
      "metadata": {
        "id": "2XLa4WHj9cdn"
      }
    },
    {
      "cell_type": "code",
      "source": [
        "my_list = [1, 2, 3, 4, 5]\n",
        "\n",
        "del my_list[0:2]\n",
        "\n",
        "print(my_list)"
      ],
      "metadata": {
        "colab": {
          "base_uri": "https://localhost:8080/"
        },
        "id": "Kp4dS0jEDT29",
        "outputId": "d032a6e3-0c31-4d83-b291-6caaa2df2e91"
      },
      "execution_count": 36,
      "outputs": [
        {
          "output_type": "stream",
          "name": "stdout",
          "text": [
            "[3, 4, 5]\n"
          ]
        }
      ]
    },
    {
      "cell_type": "markdown",
      "source": [
        "b. Using remove()\n",
        "The remove() method deletes the first occurrence of a specified value.\n",
        "\n",
        "Example:"
      ],
      "metadata": {
        "id": "mfGlB1tXDbCx"
      }
    },
    {
      "cell_type": "code",
      "source": [
        "my_list = [1, 2, 3, 4, 3]\n",
        "\n",
        "my_list.remove(3)\n",
        "\n",
        "print(my_list)"
      ],
      "metadata": {
        "colab": {
          "base_uri": "https://localhost:8080/"
        },
        "id": "WFQ63oyeDY8t",
        "outputId": "fe612596-4aae-4971-c2db-44255d3c2447"
      },
      "execution_count": 37,
      "outputs": [
        {
          "output_type": "stream",
          "name": "stdout",
          "text": [
            "[1, 2, 4, 3]\n"
          ]
        }
      ]
    },
    {
      "cell_type": "markdown",
      "source": [
        "c. Using pop()\n",
        "The pop() method removes and returns the element at a specific index. If no index is specified, it removes and returns the last element.\n",
        "\n",
        "Example:"
      ],
      "metadata": {
        "id": "JWL2roadDmoR"
      }
    },
    {
      "cell_type": "code",
      "source": [
        "my_list = [\"apple\", \"banana\", \"cherry\"]\n",
        "\n",
        "last_element = my_list.pop()\n",
        "\n",
        "print(last_element)  # Output: 'cherry'\n",
        "print(my_list)  # Output: ['apple', 'banana']\n",
        "\n",
        "first_element = my_list.pop(0)\n",
        "\n",
        "print(first_element)"
      ],
      "metadata": {
        "colab": {
          "base_uri": "https://localhost:8080/"
        },
        "id": "-uWSOCBUDiKu",
        "outputId": "137a701e-00e0-4419-bc8d-c9925b57f901"
      },
      "execution_count": 38,
      "outputs": [
        {
          "output_type": "stream",
          "name": "stdout",
          "text": [
            "cherry\n",
            "['apple', 'banana']\n",
            "apple\n"
          ]
        }
      ]
    },
    {
      "cell_type": "markdown",
      "source": [
        "d. Using clear()\n",
        "The clear() method removes all elements from the list, leaving it empty.\n",
        "\n",
        "Example:"
      ],
      "metadata": {
        "id": "o3diMCPMDzGg"
      }
    },
    {
      "cell_type": "code",
      "source": [
        "my_list = [1, 2, 3, 4, 5]\n",
        "\n",
        "my_list.clear()\n",
        "\n",
        "print(my_list)"
      ],
      "metadata": {
        "colab": {
          "base_uri": "https://localhost:8080/"
        },
        "id": "n2VZ26l3DvAu",
        "outputId": "fd187ed7-cf5d-4001-f1be-5e0c1478017b"
      },
      "execution_count": 39,
      "outputs": [
        {
          "output_type": "stream",
          "name": "stdout",
          "text": [
            "[]\n"
          ]
        }
      ]
    },
    {
      "cell_type": "markdown",
      "source": [
        "4. Compare and contrast tuple and list with example.\n"
      ],
      "metadata": {
        "id": "T07azjrQECmU"
      }
    },
    {
      "cell_type": "markdown",
      "source": [
        "Tuples and lists are both used to store collections of items in Python, but they have distinct characteristics that make them suitable for different use cases. Here’s a comparison of tuples and lists, along with examples:\n",
        "\n",
        "1. Mutability\n",
        "Tuples are immutable, meaning once they are created, their elements cannot be changed, added, or removed.\n",
        "Lists are mutable, so you can modify them after creation.\n",
        "\n",
        "Example,"
      ],
      "metadata": {
        "id": "lx3sfY3JEUgB"
      }
    },
    {
      "cell_type": "code",
      "source": [
        "\n",
        "my_tuple = (1, 2, 3)\n",
        "# my_tuple[1] = 4\n",
        "\n",
        "\n",
        "my_list = [1, 2, 3]\n",
        "my_list[1] = 4\n",
        "print(my_list)"
      ],
      "metadata": {
        "colab": {
          "base_uri": "https://localhost:8080/"
        },
        "id": "gX0Wv8_7D-Mc",
        "outputId": "9ea78ffa-a2b9-4973-c0a5-54268114867f"
      },
      "execution_count": 40,
      "outputs": [
        {
          "output_type": "stream",
          "name": "stdout",
          "text": [
            "[1, 4, 3]\n"
          ]
        }
      ]
    },
    {
      "cell_type": "markdown",
      "source": [
        "2. Syntax\n",
        "Tuples use parentheses () to create, while lists use square brackets [].\n",
        "\n",
        "Example,"
      ],
      "metadata": {
        "id": "rhemWS4cFoNC"
      }
    },
    {
      "cell_type": "code",
      "source": [
        "\n",
        "my_tuple = (1, 2, 3)\n",
        "\n",
        "\n",
        "my_list = [1, 2, 3]"
      ],
      "metadata": {
        "id": "0HkIjpPCFmBB"
      },
      "execution_count": 42,
      "outputs": []
    },
    {
      "cell_type": "markdown",
      "source": [
        "3. Performance\n",
        "Tuples are generally faster than lists because they are immutable and have a smaller memory footprint.\n",
        "\n",
        "Example,"
      ],
      "metadata": {
        "id": "AdKKjX3fF4ks"
      }
    },
    {
      "cell_type": "code",
      "source": [
        "import time\n",
        "\n",
        "\n",
        "start = time.time()\n",
        "tuple_example = (1, 2, 3, 4, 5) * 100000\n",
        "end = time.time()\n",
        "print(\"Tuple creation time:\", end - start)\n",
        "\n",
        "\n",
        "start = time.time()\n",
        "list_example = [1, 2, 3, 4, 5] * 100000\n",
        "end = time.time()\n",
        "print(\"List creation time:\", end - start)"
      ],
      "metadata": {
        "colab": {
          "base_uri": "https://localhost:8080/"
        },
        "id": "7LYbyqGdFzjP",
        "outputId": "57c4ab24-cdc1-47df-cd57-dbe130d6d4d1"
      },
      "execution_count": 43,
      "outputs": [
        {
          "output_type": "stream",
          "name": "stdout",
          "text": [
            "Tuple creation time: 0.0033440589904785156\n",
            "List creation time: 0.003652334213256836\n"
          ]
        }
      ]
    },
    {
      "cell_type": "markdown",
      "source": [
        " 4. Usage\n",
        "Tuples are commonly used for fixed collections of items, like coordinates or database records, where you want to ensure the values do not change.\n",
        "Lists are used when you need a dynamic collection of items that may change over time.\n",
        "\n",
        "\n",
        "Example:\n"
      ],
      "metadata": {
        "id": "i_K_BsM8GEd3"
      }
    },
    {
      "cell_type": "code",
      "source": [
        "\n",
        "coordinates = (10.0, 20.0)\n",
        "\n",
        "\n",
        "shopping_list = [\"apples\", \"bananas\", \"oranges\"]"
      ],
      "metadata": {
        "id": "938WKQcFGCb_"
      },
      "execution_count": 45,
      "outputs": []
    },
    {
      "cell_type": "markdown",
      "source": [
        "5.Describe the key features of sets and provide examples for their use."
      ],
      "metadata": {
        "id": "i0Q7Pe0kGhJR"
      }
    },
    {
      "cell_type": "markdown",
      "source": [
        "In Python, sets are a built-in data type that represents a collection of unique items. Here are the key features of sets in Python, along with examples for their use:\n",
        "\n",
        "Key Features of Sets in Python\n",
        "Uniqueness:\n",
        "\n",
        "Sets automatically eliminate duplicate values.\n",
        "\n",
        "\n",
        "Example:"
      ],
      "metadata": {
        "id": "lsBesxc-IPwJ"
      }
    },
    {
      "cell_type": "code",
      "source": [
        "my_set = {1, 2, 2, 3, 4}\n",
        "print(my_set)"
      ],
      "metadata": {
        "colab": {
          "base_uri": "https://localhost:8080/"
        },
        "id": "YFf8ulIlIQoU",
        "outputId": "a33773e4-27d9-46a8-b0ef-81521ffa03cd"
      },
      "execution_count": 46,
      "outputs": [
        {
          "output_type": "stream",
          "name": "stdout",
          "text": [
            "{1, 2, 3, 4}\n"
          ]
        }
      ]
    },
    {
      "cell_type": "markdown",
      "source": [
        "Unordered:\n",
        "\n",
        "The items in a set do not maintain any specific order. Each time you print or access a set, the order of elements might appear different.\n",
        "\n",
        "\n",
        "Example"
      ],
      "metadata": {
        "id": "6DQopo19Iaws"
      }
    },
    {
      "cell_type": "code",
      "source": [
        "my_set = {3, 1, 4, 2}\n",
        "print(my_set)"
      ],
      "metadata": {
        "colab": {
          "base_uri": "https://localhost:8080/"
        },
        "id": "YusnCz1fIWBg",
        "outputId": "946e304c-baf6-41da-d414-fdf6b5e0f3dc"
      },
      "execution_count": 47,
      "outputs": [
        {
          "output_type": "stream",
          "name": "stdout",
          "text": [
            "{1, 2, 3, 4}\n"
          ]
        }
      ]
    },
    {
      "cell_type": "markdown",
      "source": [
        "Mutable:\n",
        "\n",
        "Sets are mutable, meaning you can add or remove elements after the set has been created.\n",
        "\n",
        "Example,"
      ],
      "metadata": {
        "id": "pCa4lvujIbPB"
      }
    },
    {
      "cell_type": "code",
      "source": [
        "my_set = {1, 2, 3}\n",
        "my_set.add(4)\n",
        "my_set.remove(2)\n",
        "print(my_set)"
      ],
      "metadata": {
        "colab": {
          "base_uri": "https://localhost:8080/"
        },
        "id": "006j33kBIvv6",
        "outputId": "c87eb355-a4c5-45ca-85d6-a8c6719512f1"
      },
      "execution_count": 48,
      "outputs": [
        {
          "output_type": "stream",
          "name": "stdout",
          "text": [
            "{1, 3, 4}\n"
          ]
        }
      ]
    },
    {
      "cell_type": "markdown",
      "source": [
        "No Specific Data Type:\n",
        "\n",
        "A set can contain elements of different data types, such as integers, strings, and floats.\n",
        "\n",
        "Example,"
      ],
      "metadata": {
        "id": "_OoegWpGI54c"
      }
    },
    {
      "cell_type": "code",
      "source": [
        "mixed_set = {1, \"apple\", 3.14}\n",
        "print(mixed_set)"
      ],
      "metadata": {
        "colab": {
          "base_uri": "https://localhost:8080/"
        },
        "id": "FuxdfEdVI4aw",
        "outputId": "0399bc5f-34f3-4979-cef9-b1c1067aabb0"
      },
      "execution_count": 49,
      "outputs": [
        {
          "output_type": "stream",
          "name": "stdout",
          "text": [
            "{1, 3.14, 'apple'}\n"
          ]
        }
      ]
    },
    {
      "cell_type": "markdown",
      "source": [
        "Operations:\n",
        "\n",
        "Sets support various mathematical operations, such as union, intersection, difference, and subset checks.\n",
        "\n",
        "\n",
        "Example,"
      ],
      "metadata": {
        "id": "VdokArK7JCqO"
      }
    },
    {
      "cell_type": "code",
      "source": [
        "set_a = {1, 2, 3}\n",
        "set_b = {3, 4, 5}\n",
        "\n",
        "# Union\n",
        "union_set = set_a | set_b\n",
        "print(union_set)\n",
        "\n",
        "# Intersection\n",
        "intersection_set = set_a & set_b\n",
        "print(intersection_set)\n",
        "\n",
        "# Difference\n",
        "difference_set = set_a - set_b\n",
        "print(difference_set)\n",
        "\n",
        "# Subset\n",
        "is_subset = {1, 2}.issubset(set_a)\n",
        "print(is_subset)"
      ],
      "metadata": {
        "colab": {
          "base_uri": "https://localhost:8080/"
        },
        "id": "uKvN4wu8JBwZ",
        "outputId": "d7cd8cf6-eb7d-4cb0-bae0-1128fa29e31b"
      },
      "execution_count": 51,
      "outputs": [
        {
          "output_type": "stream",
          "name": "stdout",
          "text": [
            "{1, 2, 3, 4, 5}\n",
            "{3}\n",
            "{1, 2}\n",
            "True\n"
          ]
        }
      ]
    },
    {
      "cell_type": "markdown",
      "source": [
        "6. Discuss the used cases of tuples and set in python programming."
      ],
      "metadata": {
        "id": "HdN40kn3o3K7"
      }
    },
    {
      "cell_type": "markdown",
      "source": [
        "In Python, tuples and sets are two distinct data structures, each with specific characteristics that make them suitable for particular use cases.\n",
        "\n",
        "Tuples\n",
        "A tuple is an ordered, immutable collection of items. Once a tuple is created, its elements cannot be changed, which makes it ideal for representing fixed collections of items. Tuples are defined using parentheses ().\n",
        "\n",
        "Use Cases for Tuples:\n",
        "\n",
        "\n",
        " 1.Fixed Data: Tuples are used when the collection of items is not supposed to change.\n",
        "\n",
        " For example, they are often used to store things like geographical coordinates (latitude, longitude), or RGB color values.\n",
        "\n",
        "\n",
        "2.Heterogeneous Data: Tuples can store different types of data (e.g., strings, integers, floats), making them a good fit for returning multiple values from a function."
      ],
      "metadata": {
        "id": "og4_7aOHqQLi"
      }
    },
    {
      "cell_type": "code",
      "source": [
        "def get_person_info():\n",
        "    return (\"Alice\", 30, \"Engineer\")"
      ],
      "metadata": {
        "id": "MSHCr6iTJMwX"
      },
      "execution_count": 1,
      "outputs": []
    },
    {
      "cell_type": "markdown",
      "source": [
        "Key in Dictionary: Since tuples are immutable, they can be used as keys in dictionaries, while lists (which are mutable) cannot."
      ],
      "metadata": {
        "id": "17A3DO5iqkWj"
      }
    },
    {
      "cell_type": "code",
      "source": [
        "coordinates_dict = {(40.7128, -74.0060): \"New York\"}"
      ],
      "metadata": {
        "id": "fCejgtH-qgc1"
      },
      "execution_count": 2,
      "outputs": []
    },
    {
      "cell_type": "markdown",
      "source": [
        "3.Memory Efficiency: Tuples are slightly more memory efficient than lists. If you have large datasets that don’t need to be modified, tuples may be preferable.\n",
        "\n",
        "4.Unpacking: Tuples support unpacking, which makes it easy to assign values to multiple variables in a single statement."
      ],
      "metadata": {
        "id": "eFyF_oD6qp4t"
      }
    },
    {
      "cell_type": "markdown",
      "source": [
        "Sets\n",
        "A set is an unordered, mutable collection of unique elements. Duplicates are automatically removed in sets, and sets are defined using curly braces {} or the set() constructor.\n",
        "\n",
        "Use Cases for Sets:\n",
        "1.Unique Items: Sets are perfect for situations where you need to store unique items and want to avoid duplicates.\n",
        "\n",
        "Example: unique_numbers = {1, 2, 3, 3, 4} # Results in {1, 2, 3, 4}\n",
        "\n",
        "\n",
        "2.Mathematical Operations: Sets support standard set operations like union, intersection, difference, and symmetric difference, making them useful for mathematical calculations."
      ],
      "metadata": {
        "id": "clcfNS0grGzE"
      }
    },
    {
      "cell_type": "code",
      "source": [
        "A = {1, 2, 3}\n",
        "B = {2, 3, 4}\n",
        "A.union(B)\n",
        "A.intersection(B)\n",
        "A.difference(B)"
      ],
      "metadata": {
        "colab": {
          "base_uri": "https://localhost:8080/"
        },
        "id": "-7D4JZZhqoHN",
        "outputId": "d57b9bd7-693d-4193-9f6d-5921f0cd0177"
      },
      "execution_count": 3,
      "outputs": [
        {
          "output_type": "execute_result",
          "data": {
            "text/plain": [
              "{1}"
            ]
          },
          "metadata": {},
          "execution_count": 3
        }
      ]
    },
    {
      "cell_type": "markdown",
      "source": [
        "3.Fast Membership Testing: Sets provide fast lookups for membership tests (e.g., checking if an element exists in a set), making them useful for filtering out duplicates or checking the existence of an element."
      ],
      "metadata": {
        "id": "4BO2IJ0Lrgqa"
      }
    },
    {
      "cell_type": "code",
      "source": [
        "items = {\"apple\", \"banana\", \"cherry\"}\n",
        "if \"banana\" in items:\n",
        "    print(\"Banana is in the set!\")"
      ],
      "metadata": {
        "colab": {
          "base_uri": "https://localhost:8080/"
        },
        "id": "4IOZ6ip2renu",
        "outputId": "17214a48-58ed-4195-a0fa-656d50ae0ec1"
      },
      "execution_count": 4,
      "outputs": [
        {
          "output_type": "stream",
          "name": "stdout",
          "text": [
            "Banana is in the set!\n"
          ]
        }
      ]
    },
    {
      "cell_type": "markdown",
      "source": [
        "4.Removing Duplicates: Sets are often used to remove duplicates from a list while preserving only the unique items."
      ],
      "metadata": {
        "id": "bXuMZYWxrs-H"
      }
    },
    {
      "cell_type": "code",
      "source": [
        "numbers = [1, 2, 2, 3, 4, 4, 5]\n",
        "unique_numbers = set(numbers)"
      ],
      "metadata": {
        "id": "xc3n-NwXrrGH"
      },
      "execution_count": 6,
      "outputs": []
    },
    {
      "cell_type": "markdown",
      "source": [
        "5.Set Operations in Comparisons: Sets are handy for tasks like finding common or different elements between collections of data.\n",
        "\n",
        "Example: Finding common friends between two social media users:"
      ],
      "metadata": {
        "id": "LKggMIG-r5In"
      }
    },
    {
      "cell_type": "code",
      "source": [
        "user1_friends = {\"Alice\", \"Bob\", \"Charlie\"}\n",
        "user2_friends = {\"Bob\", \"Dave\", \"Eve\"}\n",
        "common_friends = user1_friends.intersection(user2_friends)"
      ],
      "metadata": {
        "id": "7hMLCXlTr2Io"
      },
      "execution_count": 7,
      "outputs": []
    },
    {
      "cell_type": "markdown",
      "source": [
        "7.Describe how to add, modify,and delete in a dictionary with examples."
      ],
      "metadata": {
        "id": "dvbERXdmsD4S"
      }
    },
    {
      "cell_type": "markdown",
      "source": [
        "In Python, dictionaries are mutable collections of key-value pairs. You can easily add, modify, or delete items in a dictionary. Here's a detailed description of how to perform these operations with examples.\n",
        "\n",
        "1. Adding Items to a Dictionary\n",
        "To add an item to a dictionary, you simply assign a value to a new key using the syntax dictionary[key] = value."
      ],
      "metadata": {
        "id": "kCY92LfUteO2"
      }
    },
    {
      "cell_type": "code",
      "source": [
        "\n",
        "person = {\"name\": \"sahil\", \"age\": 25}\n",
        "\n",
        "\n",
        "person[\"city\"] = \"nagpur\"\n",
        "\n",
        "print(person)"
      ],
      "metadata": {
        "colab": {
          "base_uri": "https://localhost:8080/"
        },
        "id": "JgdeYhHZsBXY",
        "outputId": "1021d22a-9c00-4398-d211-9deb8fa81f5f"
      },
      "execution_count": 13,
      "outputs": [
        {
          "output_type": "stream",
          "name": "stdout",
          "text": [
            "{'name': 'sahil', 'age': 25, 'city': 'nagpur'}\n"
          ]
        }
      ]
    },
    {
      "cell_type": "markdown",
      "source": [
        "2. Modifying Items in a Dictionary\n",
        "To modify an existing item, you reference its key and assign a new value. If the key exists, its value is updated; if it doesn't, a new key-value pair is added."
      ],
      "metadata": {
        "id": "Np9bWjl0uOZL"
      }
    },
    {
      "cell_type": "code",
      "source": [
        "\n",
        "person = {\"name\": \"sahil\", \"age\": 25, \"city\": \"Nagpur\"}\n",
        "\n",
        "\n",
        "person[\"age\"] = 30\n",
        "\n",
        "print(person)"
      ],
      "metadata": {
        "colab": {
          "base_uri": "https://localhost:8080/"
        },
        "id": "u396xsuUuMTs",
        "outputId": "080a2f17-6eac-4bd4-8151-4ffa39f2cf62"
      },
      "execution_count": 11,
      "outputs": [
        {
          "output_type": "stream",
          "name": "stdout",
          "text": [
            "{'name': 'sahil', 'age': 30, 'city': 'Nagpur'}\n"
          ]
        }
      ]
    },
    {
      "cell_type": "markdown",
      "source": [
        "Bulk Modification Using the update() Method:\n",
        "You can modify multiple key-value pairs at once using the update() method."
      ],
      "metadata": {
        "id": "HAYiaGoYuoco"
      }
    },
    {
      "cell_type": "code",
      "source": [
        "person.update({\"age\": 35, \"city\": \"chandrapur\"})\n",
        "\n",
        "print(person)"
      ],
      "metadata": {
        "colab": {
          "base_uri": "https://localhost:8080/"
        },
        "id": "zOEPtl_UukrO",
        "outputId": "5a97d7df-13bc-4d13-fe6a-26710b7f2149"
      },
      "execution_count": 12,
      "outputs": [
        {
          "output_type": "stream",
          "name": "stdout",
          "text": [
            "{'name': 'sahil', 'age': 35, 'city': 'chandrapur'}\n"
          ]
        }
      ]
    },
    {
      "cell_type": "markdown",
      "source": [
        "3. Deleting Items from a Dictionary\n",
        "There are several ways to delete items from a dictionary.\n",
        "\n",
        "a) Using the del Statement:\n",
        "The del statement removes the key-value pair associated with a given key"
      ],
      "metadata": {
        "id": "R5Ee7Wa0u4l2"
      }
    },
    {
      "cell_type": "code",
      "source": [
        "\n",
        "person = {\"name\": \"sahil\", \"age\": 35, \"city\": \"chandrapur\"}\n",
        "\n",
        "\n",
        "del person[\"city\"]\n",
        "\n",
        "print(person)"
      ],
      "metadata": {
        "colab": {
          "base_uri": "https://localhost:8080/"
        },
        "id": "ppBXbb-guyP_",
        "outputId": "91fdc6cc-7941-4550-b684-01074c682d36"
      },
      "execution_count": 14,
      "outputs": [
        {
          "output_type": "stream",
          "name": "stdout",
          "text": [
            "{'name': 'sahil', 'age': 35}\n"
          ]
        }
      ]
    },
    {
      "cell_type": "markdown",
      "source": [
        "b) Using the pop() Method:\n",
        "The pop() method removes the item with the specified key and returns its value. If the key is not found, you can provide a default value to avoid a KeyError."
      ],
      "metadata": {
        "id": "VVBR3XZJvUIK"
      }
    },
    {
      "cell_type": "code",
      "source": [
        "age = person.pop(\"age\")\n",
        "\n",
        "print(person)  # {'name': 'sahil'}\n",
        "print(age)     # 25"
      ],
      "metadata": {
        "colab": {
          "base_uri": "https://localhost:8080/"
        },
        "id": "snDytxIfvQRU",
        "outputId": "962f8a31-05f1-4825-992d-51538e1ada66"
      },
      "execution_count": 15,
      "outputs": [
        {
          "output_type": "stream",
          "name": "stdout",
          "text": [
            "{'name': 'sahil'}\n",
            "35\n"
          ]
        }
      ]
    },
    {
      "cell_type": "markdown",
      "source": [
        "c) Using the popitem() Method:\n",
        "The popitem() method removes and returns the last inserted key-value pair. It’s useful when you want to remove items but don’t care which one."
      ],
      "metadata": {
        "id": "ByHNWXJEvdhW"
      }
    },
    {
      "cell_type": "code",
      "source": [
        "person[\"country\"] = \"India\"\n",
        "last_item = person.popitem()\n",
        "print(person)       # {'name': 'sahil'}\n",
        "print(last_item)    # ('country', 'India')"
      ],
      "metadata": {
        "colab": {
          "base_uri": "https://localhost:8080/"
        },
        "id": "dyVjWx9XvbFt",
        "outputId": "3bf0a573-13c2-4b5b-a82e-a3a22bb19b22"
      },
      "execution_count": 16,
      "outputs": [
        {
          "output_type": "stream",
          "name": "stdout",
          "text": [
            "{'name': 'sahil'}\n",
            "('country', 'India')\n"
          ]
        }
      ]
    },
    {
      "cell_type": "markdown",
      "source": [
        "d) Using the clear() Method:\n",
        "The clear() method removes all items from the dictionary, leaving it empty."
      ],
      "metadata": {
        "id": "dXuG2pf6wIHz"
      }
    },
    {
      "cell_type": "code",
      "source": [
        "person.clear()\n",
        "\n",
        "print(person)"
      ],
      "metadata": {
        "colab": {
          "base_uri": "https://localhost:8080/"
        },
        "id": "LDOPcDZkwEAV",
        "outputId": "9c6acd59-af16-4f11-8960-f72a036b12c6"
      },
      "execution_count": 17,
      "outputs": [
        {
          "output_type": "stream",
          "name": "stdout",
          "text": [
            "{}\n"
          ]
        }
      ]
    },
    {
      "cell_type": "markdown",
      "source": [
        "8.Discuss the importance of dictionary keys being immutable and provide example."
      ],
      "metadata": {
        "id": "3xainKdkwbSj"
      }
    },
    {
      "cell_type": "markdown",
      "source": [
        "In Python, dictionary keys must be immutable to ensure their hashability and consistency. Dictionaries use a hash table under the hood, which requires keys to have a consistent hash value. If keys were mutable (i.e., their values could change), it would disrupt the internal hashing mechanism, leading to issues such as lost, incorrect, or inaccessible data. Let’s explore the importance of immutability in more detail:\n",
        "\n",
        "1. Hashability Requirement\n",
        "A dictionary key is hashed using Python’s _hash_() function, which assigns a fixed value for fast lookups. Immutable objects like strings, numbers, and tuples (with immutable elements) have a constant hash value throughout their lifetime. If a mutable object (like a list) were allowed as a key, its hash value could change when the object is modified, breaking the dictionary’s ability to find or retrieve the key correctly.\n",
        "\n",
        "Example:Immutable key (String):"
      ],
      "metadata": {
        "id": "K4DXfvKUyppg"
      }
    },
    {
      "cell_type": "code",
      "source": [
        "my_dict = {\"name\": \"sahil\", \"age\": 22}\n",
        "print(my_dict[\"name\"])"
      ],
      "metadata": {
        "colab": {
          "base_uri": "https://localhost:8080/"
        },
        "id": "rLMIWF4hwNNR",
        "outputId": "4c4b8601-8599-476e-d6f5-b1af95507f19"
      },
      "execution_count": 18,
      "outputs": [
        {
          "output_type": "stream",
          "name": "stdout",
          "text": [
            "sahil\n"
          ]
        }
      ]
    },
    {
      "cell_type": "markdown",
      "source": [
        "Here, the string \"name\" is immutable, so its hash value remains consistent, allowing the dictionary to store and retrieve the value efficiently."
      ],
      "metadata": {
        "id": "vmkKbxKfzGm4"
      }
    },
    {
      "cell_type": "markdown",
      "source": [
        "Mutable key (List - Invalid):"
      ],
      "metadata": {
        "id": "-7kpBtEDzarr"
      }
    },
    {
      "cell_type": "code",
      "source": [
        "my_dict = {[1, 2, 3]: \"Invalid\"}"
      ],
      "metadata": {
        "colab": {
          "base_uri": "https://localhost:8080/",
          "height": 141
        },
        "id": "eudL4zgzzDLS",
        "outputId": "80db6104-790e-4fbe-d97a-24d140aa1dee"
      },
      "execution_count": 22,
      "outputs": [
        {
          "output_type": "error",
          "ename": "TypeError",
          "evalue": "unhashable type: 'list'",
          "traceback": [
            "\u001b[0;31m---------------------------------------------------------------------------\u001b[0m",
            "\u001b[0;31mTypeError\u001b[0m                                 Traceback (most recent call last)",
            "\u001b[0;32m<ipython-input-22-f9594a1bb39a>\u001b[0m in \u001b[0;36m<cell line: 1>\u001b[0;34m()\u001b[0m\n\u001b[0;32m----> 1\u001b[0;31m \u001b[0mmy_dict\u001b[0m \u001b[0;34m=\u001b[0m \u001b[0;34m{\u001b[0m\u001b[0;34m[\u001b[0m\u001b[0;36m1\u001b[0m\u001b[0;34m,\u001b[0m \u001b[0;36m2\u001b[0m\u001b[0;34m,\u001b[0m \u001b[0;36m3\u001b[0m\u001b[0;34m]\u001b[0m\u001b[0;34m}\u001b[0m\u001b[0;34m\u001b[0m\u001b[0;34m\u001b[0m\u001b[0m\n\u001b[0m",
            "\u001b[0;31mTypeError\u001b[0m: unhashable type: 'list'"
          ]
        }
      ]
    },
    {
      "cell_type": "markdown",
      "source": [
        "This  raise a TypeError because lists are mutable, meaning their contents (and hence their hash values) can change."
      ],
      "metadata": {
        "id": "txLnzJgAzvw4"
      }
    },
    {
      "cell_type": "markdown",
      "source": [
        "2. Consistency in Lookups\n",
        "When a key is added to a dictionary, the hash of the key is computed. If the key could change later, its hash would change, making it impossible to locate it in the hash table. Immutability guarantees that once a key is set, its identity in the dictionary remains fixed.\n",
        "\n",
        "Example:\n",
        "\n",
        "\n",
        "Tuple as a Key (Immutable):"
      ],
      "metadata": {
        "id": "ToLi0MRJz7f1"
      }
    },
    {
      "cell_type": "code",
      "source": [
        "coordinates = {(10, 20): \"Point A\", (30, 40): \"Point B\"}\n",
        "print(coordinates[(10, 20)])"
      ],
      "metadata": {
        "colab": {
          "base_uri": "https://localhost:8080/"
        },
        "id": "C9IkEby2zfJs",
        "outputId": "979af1bd-1721-42c7-b5e5-f582a251c62d"
      },
      "execution_count": 23,
      "outputs": [
        {
          "output_type": "stream",
          "name": "stdout",
          "text": [
            "Point A\n"
          ]
        }
      ]
    },
    {
      "cell_type": "markdown",
      "source": [
        "Since tuples are immutable, their hash value remains stable, ensuring accurate lookups."
      ],
      "metadata": {
        "id": "WKhpxoF20JF-"
      }
    },
    {
      "cell_type": "code",
      "source": [
        "List as a Key (Mutable - Invalid):"
      ],
      "metadata": {
        "id": "uF_CO-rb0BMW"
      },
      "execution_count": null,
      "outputs": []
    },
    {
      "cell_type": "code",
      "source": [
        "my_dict = {[1, 2]: \"list_key\"}"
      ],
      "metadata": {
        "id": "NU9MZl3a0Ulv"
      },
      "execution_count": null,
      "outputs": []
    },
    {
      "cell_type": "markdown",
      "source": [
        "This will cause an error because lists are mutable and cannot be hashed consistently."
      ],
      "metadata": {
        "id": "4aqyuY6s0Qp5"
      }
    },
    {
      "cell_type": "markdown",
      "source": [
        "3. Immutability and Performance\n",
        "Because dictionary operations like insertion, deletion, and lookups rely on fast hashing, using mutable keys could lead to inefficient and unpredictable behavior. Immutable keys guarantee that the dictionary’s performance remains optimized, as hash computations won’t change over time.\n",
        "\n",
        "Example of Performance:\n",
        "\n",
        "\n",
        "Using immutable types like integers and strings as keys allows dictionaries to access values in constant time, ensuring predictable performance in large datasets.\n",
        "\n",
        "In summary, dictionary keys need to be immutable for hashing consistency and reliable performance. Common immutable types used as dictionary keys include integers, strings, and tuples. On the other hand, mutable types like lists, dictionaries, and sets cannot serve as dictionary keys."
      ],
      "metadata": {
        "id": "0Rljb-uv0dc1"
      }
    },
    {
      "cell_type": "code",
      "source": [],
      "metadata": {
        "id": "vboJ0pzw0ZYa"
      },
      "execution_count": 23,
      "outputs": []
    }
  ]
}